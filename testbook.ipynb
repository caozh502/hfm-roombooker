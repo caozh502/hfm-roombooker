{
 "cells": [
  {
   "cell_type": "code",
   "execution_count": 3,
   "metadata": {},
   "outputs": [
    {
     "name": "stdout",
     "output_type": "stream",
     "text": [
      "本地时间为 : 6\n"
     ]
    }
   ],
   "source": [
    "import time\n",
    " \n",
    "localtime = time.localtime(time.time())\n",
    "print (\"本地时间为 :\", localtime.tm_mday)"
   ]
  },
  {
   "cell_type": "code",
   "execution_count": null,
   "metadata": {},
   "outputs": [],
   "source": [
    "from selenium.webdriver import ActionChains\n",
    "from selenium.webdriver.common.by import By\n",
    "from selenium import webdriver\n",
    "\n",
    "driver=webdriver.Chrome()\n",
    "driver.get('https://www.baidu.com/')\n",
    "inputTag = driver.find_element(by=By.ID, value='kw')\n",
    "submitTag = driver.find_element(by=By.ID, value='su')\n",
    "\n",
    "actions = ActionChains(driver)\n",
    "actions.move_to_element(inputTag)\n",
    "actions.send_keys_to_element(inputTag, '码农飞哥')\n",
    "actions.move_to_element(submitTag)\n",
    "actions.click(submitTag)\n",
    "actions.perform()\n",
    "time.sleep(15)\n",
    "driver.close()"
   ]
  },
  {
   "cell_type": "code",
   "execution_count": 1,
   "metadata": {},
   "outputs": [
    {
     "name": "stdout",
     "output_type": "stream",
     "text": [
      "successfully login\n"
     ]
    }
   ],
   "source": [
    "import requests\n",
    "\n",
    "url = 'https://hfm-karlsruhe.asimut.net/public/login.php'\n",
    "header = { 'User-agent': 'Mozilla/5.0 (Windows NT 10.0; WOW64) AppleWebKit/537.36 (KHTML, like Gecko) Chrome/45.0.2454.85 Safari/537.36'\n",
    "}\n",
    "\n",
    "from_data = {'authenticate-useraccount': '13200',\n",
    "    'authenticate-password': 'ZXY200238zxy.',\n",
    "    'authenticate-url': '/public/',\n",
    "    'authenticate-verification': 'ok',\n",
    "}\n",
    "s = requests.session()\n",
    "response = s.post(url, data = from_data, headers = header)\n",
    "\n",
    "if 'Xinyuan Zhang' in response.content.decode('utf-8'):\n",
    "    print ('successfully login')\n",
    "else:\n",
    "    print ('failed login')"
   ]
  },
  {
   "cell_type": "code",
   "execution_count": 2,
   "metadata": {},
   "outputs": [
    {
     "name": "stderr",
     "output_type": "stream",
     "text": [
      "C:\\Users\\Caleb Tsao\\AppData\\Local\\Temp\\ipykernel_25236\\2031232898.py:10: DeprecationWarning: use options instead of chrome_options\n",
      "  browser = webdriver.Chrome(chrome_options=options)\n",
      "C:\\Users\\Caleb Tsao\\AppData\\Local\\Temp\\ipykernel_25236\\2031232898.py:12: DeprecationWarning: find_element_by_* commands are deprecated. Please use find_element() instead\n",
      "  browser.find_element_by_id('kw').send_keys('HELLO')\n",
      "C:\\Users\\Caleb Tsao\\AppData\\Local\\Temp\\ipykernel_25236\\2031232898.py:13: DeprecationWarning: find_element_by_* commands are deprecated. Please use find_element() instead\n",
      "  browser.find_element_by_id('su').click()\n"
     ]
    },
    {
     "ename": "AssertionError",
     "evalue": "",
     "output_type": "error",
     "traceback": [
      "\u001b[1;31m---------------------------------------------------------------------------\u001b[0m",
      "\u001b[1;31mAssertionError\u001b[0m                            Traceback (most recent call last)",
      "\u001b[1;32mf:\\Code\\hfm-roombooker\\Untitled-1.ipynb Cell 4'\u001b[0m in \u001b[0;36m<cell line: 16>\u001b[1;34m()\u001b[0m\n\u001b[0;32m     <a href='vscode-notebook-cell:/f%3A/Code/hfm-roombooker/Untitled-1.ipynb#ch0000005?line=12'>13</a>\u001b[0m browser\u001b[39m.\u001b[39mfind_element_by_id(\u001b[39m'\u001b[39m\u001b[39msu\u001b[39m\u001b[39m'\u001b[39m)\u001b[39m.\u001b[39mclick()\n\u001b[0;32m     <a href='vscode-notebook-cell:/f%3A/Code/hfm-roombooker/Untitled-1.ipynb#ch0000005?line=14'>15</a>\u001b[0m sleep(\u001b[39m1\u001b[39m) \u001b[39m# 简单粗暴的等待，实际项目中勿用\u001b[39;00m\n\u001b[1;32m---> <a href='vscode-notebook-cell:/f%3A/Code/hfm-roombooker/Untitled-1.ipynb#ch0000005?line=15'>16</a>\u001b[0m \u001b[39massert\u001b[39;00m browser\u001b[39m.\u001b[39mtitle \u001b[39m==\u001b[39m \u001b[39mu\u001b[39m\u001b[39m'\u001b[39m\u001b[39mHELLO_百度搜索\u001b[39m\u001b[39m'\u001b[39m\n\u001b[0;32m     <a href='vscode-notebook-cell:/f%3A/Code/hfm-roombooker/Untitled-1.ipynb#ch0000005?line=16'>17</a>\u001b[0m browser\u001b[39m.\u001b[39msave_screenshot(\u001b[39m'\u001b[39m\u001b[39mchrome-headless-test.png\u001b[39m\u001b[39m'\u001b[39m)\n",
      "\u001b[1;31mAssertionError\u001b[0m: "
     ]
    }
   ],
   "source": [
    "from time import sleep\n",
    "from selenium import webdriver\n",
    "from selenium.webdriver.chrome.options import Options\n",
    " \n",
    "options = Options()\n",
    "options.add_argument('--headless')\n",
    "options.add_argument('--disable-gpu') # 允许在无GPU的环境下运行，可选\n",
    "options.add_argument('--window-size=1920x1080') # 建议设置\n",
    " \n",
    "browser = webdriver.Chrome(chrome_options=options)\n",
    "browser.get('https://www.baidu.com')\n",
    "browser.find_element_by_id('kw').send_keys('HELLO')\n",
    "browser.find_element_by_id('su').click()\n",
    " \n",
    "sleep(1) # 简单粗暴的等待，实际项目中勿用\n",
    "assert browser.title == u'HELLO_百度搜索'\n",
    "browser.save_screenshot('chrome-headless-test.png')\n"
   ]
  },
  {
   "cell_type": "code",
   "execution_count": 27,
   "metadata": {},
   "outputs": [
    {
     "name": "stdout",
     "output_type": "stream",
     "text": [
      "invalid room 215\n"
     ]
    }
   ],
   "source": [
    "i=94\n",
    "\n",
    "print ('invalid room 2'+ ((str(0)+str(i-79)) if (i-79)<10 else str(i-79)))"
   ]
  },
  {
   "cell_type": "code",
   "execution_count": 13,
   "metadata": {},
   "outputs": [
    {
     "name": "stdout",
     "output_type": "stream",
     "text": [
      "Enter your room number (if need):\n",
      "0\n"
     ]
    }
   ],
   "source": [
    "print (\"Enter your room number (if need):\")\n",
    "tmp = input()\n",
    "num_room= tmp if tmp else 0\n",
    "print(num_room)"
   ]
  },
  {
   "cell_type": "code",
   "execution_count": 10,
   "metadata": {},
   "outputs": [
    {
     "name": "stdout",
     "output_type": "stream",
     "text": [
      "invalid room 203\n"
     ]
    }
   ],
   "source": [
    "i=82\n",
    "print ('invalid room 2'+ ((str(0)+str(i-79)) if (i-79)<10 else str(i-79)))\n"
   ]
  },
  {
   "cell_type": "code",
   "execution_count": 7,
   "metadata": {},
   "outputs": [
    {
     "name": "stdout",
     "output_type": "stream",
     "text": [
      "<class 'int'>\n"
     ]
    }
   ],
   "source": [
    "a = input()\n",
    "print (type(int(a)))"
   ]
  },
  {
   "cell_type": "code",
   "execution_count": 3,
   "metadata": {},
   "outputs": [
    {
     "name": "stdout",
     "output_type": "stream",
     "text": [
      "6:15\n"
     ]
    }
   ],
   "source": [
    "import datetime\n",
    "import time\n",
    "st = \"06:15\"\n",
    "st = datetime.datetime.strptime(st, \"%H:%M\")\n",
    "# st = st+datetime.timedelta(minutes=30)\n",
    "et = \"08:15\"\n",
    "et = datetime.datetime.strptime(et, \"%H:%M\")\n",
    "# et = et+datetime.timedelta(minutes=30)\n",
    "\n",
    "print (str(st.hour)+':'+str(st.minute))\n",
    "# 2018-05-09 16:56:07\n"
   ]
  },
  {
   "cell_type": "code",
   "execution_count": 3,
   "metadata": {},
   "outputs": [
    {
     "name": "stdout",
     "output_type": "stream",
     "text": [
      "010828\n"
     ]
    }
   ],
   "source": [
    "import datetime\n",
    "localtime = datetime.datetime.now()\n",
    "print (localtime.strftime(\"%H%M%S\"))"
   ]
  },
  {
   "cell_type": "code",
   "execution_count": 2,
   "metadata": {},
   "outputs": [
    {
     "name": "stdout",
     "output_type": "stream",
     "text": [
      "1\n",
      "text\n",
      "2\n",
      "text\n",
      "3\n",
      "text\n",
      "4\n",
      "text\n",
      "5\n",
      "text\n",
      "6\n",
      "text\n",
      "8\n",
      "text\n",
      "9\n",
      "text\n"
     ]
    }
   ],
   "source": [
    "for i in range(1,10):\n",
    "    if i !=7:\n",
    "        print (i)\n",
    "    else:\n",
    "        continue\n",
    "    print (\"text\")"
   ]
  },
  {
   "cell_type": "code",
   "execution_count": 12,
   "metadata": {},
   "outputs": [
    {
     "name": "stdout",
     "output_type": "stream",
     "text": [
      "<built-in method isdigit of str object at 0x0000027E1C645F70>\n"
     ]
    }
   ],
   "source": [
    "age=input()\n",
    "print (age.isdigit)\n",
    "# while (not age.isdigit):\n",
    "#     age=input()"
   ]
  },
  {
   "cell_type": "code",
   "execution_count": 36,
   "metadata": {},
   "outputs": [
    {
     "name": "stdout",
     "output_type": "stream",
     "text": [
      "Please choose mode:\n",
      "[1] normal\n",
      "[2] extend your time\n",
      "Enter your wish start time(example: 18:15): Enter your duration(h):Enter your room number (if need):Enter your wish date (if need, default value is today+7):"
     ]
    }
   ],
   "source": [
    "intro = \"\"\"Please choose mode:\n",
    "[1] normal\n",
    "[2] extend your time\"\"\"\n",
    "print (intro)\n",
    "mode = int(input())\n",
    "if mode==1:\n",
    "    print(\"Enter your wish start time(example: 18:15): \",end=\"\")\n",
    "    st = input() # start time\n",
    "    print(\"Enter your duration(h):\",end=\"\")    \n",
    "    et = input() # end time\n",
    "    print (\"Enter your room number (if need):\",end=\"\")\n",
    "    tmp_rm = input()\n",
    "    num_room= tmp_rm if tmp_rm else 0 # input room number if need\n",
    "    print (\"Enter your wish date (if need, default value is today+7):\",end=\"\")\n",
    "    tmp_dt = input()\n",
    "    date= tmp_dt if tmp_dt else 0 # input wish date if need\n",
    "\n",
    "elif mode ==2:\n",
    "    print (\"still be worked\")"
   ]
  },
  {
   "cell_type": "code",
   "execution_count": 11,
   "metadata": {},
   "outputs": [
    {
     "name": "stdout",
     "output_type": "stream",
     "text": [
      "20\n",
      "sdfaftest\n"
     ]
    }
   ],
   "source": [
    "import datetime\n",
    "\n",
    "now = datetime.datetime.now()\n",
    "print (now.minute)\n",
    "a=('sdfaf'\n",
    "'test') if 1 else\\\n",
    "    0\n",
    "result = True\n",
    "if result is True:\n",
    "    print (a)"
   ]
  },
  {
   "cell_type": "code",
   "execution_count": 1,
   "metadata": {},
   "outputs": [
    {
     "name": "stdout",
     "output_type": "stream",
     "text": [
      "1\n"
     ]
    }
   ],
   "source": [
    "import datetime\n",
    "# def getNearestMinFor(t):\n",
    "#     time = datetime.datetime.strptime(t, \"%H:%M\")\n",
    "#     time= time.replace(minute=(time.minute//15+1)*15) if time.minute//15!=3 else time.replace(minute=0,hour=time.hour+1)\n",
    "#     return time\n",
    "\n",
    "# t= \"15:35\"\n",
    "# ti = getNearestMinFor(t)\n",
    "# print (ti.strftime(\"%H:%M\"))\n",
    "\n",
    "def diffMin(t1,t2):\n",
    "    diff = t1-t2\n",
    "    return (int(diff.seconds/60))\n",
    "t = \"16:15\"\n",
    "t1= datetime.datetime.strptime(t, \"%H:%M\")\n",
    "a = \"16:30\"\n",
    "a1= datetime.datetime.strptime(a, \"%H:%M\")\n",
    "diff = a1 -t1\n",
    "print (int(diffMin(a1,t1)/15))"
   ]
  },
  {
   "cell_type": "code",
   "execution_count": 10,
   "metadata": {},
   "outputs": [
    {
     "name": "stdout",
     "output_type": "stream",
     "text": [
      "9\n",
      "9\n",
      "9\n",
      "9\n",
      "9\n",
      "9\n",
      "9\n",
      "9\n",
      "9\n"
     ]
    }
   ],
   "source": []
  },
  {
   "cell_type": "code",
   "execution_count": 7,
   "metadata": {},
   "outputs": [
    {
     "name": "stdout",
     "output_type": "stream",
     "text": [
      "[21:02:47] waiting now until next reservation is possible, 1 round left\n"
     ]
    }
   ],
   "source": [
    "import datetime\n",
    "i=1\n",
    "localtime = datetime.datetime.now()\n",
    "print (\"[\" + localtime.strftime(\"%H:%M:%S\")+\"] waiting now until next reservation is possible, \"+ str(i)+\" round left\")"
   ]
  },
  {
   "cell_type": "code",
   "execution_count": 21,
   "metadata": {},
   "outputs": [
    {
     "name": "stdout",
     "output_type": "stream",
     "text": [
      "Hi\n"
     ]
    }
   ],
   "source": [
    "def test(t):\n",
    "    return t\n",
    "\n",
    "class ClassTest(object):\n",
    "    def test_def(self):\n",
    "        test_msg = test('Hi')\n",
    "        print(test_msg)\n",
    "\n",
    "# Creates new instance.\n",
    "my_new_instance = ClassTest()\n",
    "# Calls its attribute.\n",
    "my_new_instance.test_def()"
   ]
  },
  {
   "cell_type": "code",
   "execution_count": 37,
   "metadata": {},
   "outputs": [
    {
     "name": "stdout",
     "output_type": "stream",
     "text": [
      "I'm running on thread <Thread(Thread-3 (job1), started 20956)>I'm running on thread <Thread(Thread-4 (job2), started 21464)>\n",
      "\n",
      "I'm running on thread <Thread(Thread-5 (job3), started 19420)>\n",
      "I'm running on thread <Thread(Thread-6 (job1), started 20044)>I'm running on thread <Thread(Thread-7 (job2), started 23444)>\n",
      "\n",
      "I'm running on thread <Thread(Thread-8 (job3), started 27556)>\n",
      "I'm running on thread <Thread(Thread-9 (job1), started 6432)>\n",
      "I'm running on thread <Thread(Thread-10 (job2), started 2280)>\n",
      "I'm running on thread <Thread(Thread-11 (job3), started 23212)>\n"
     ]
    },
    {
     "ename": "KeyboardInterrupt",
     "evalue": "",
     "output_type": "error",
     "traceback": [
      "\u001b[1;31m---------------------------------------------------------------------------\u001b[0m",
      "\u001b[1;31mKeyboardInterrupt\u001b[0m                         Traceback (most recent call last)",
      "\u001b[1;32mf:\\Code\\hfm-roombooker\\Untitled-1.ipynb Cell 13'\u001b[0m in \u001b[0;36m<cell line: 16>\u001b[1;34m()\u001b[0m\n\u001b[0;32m     <a href='vscode-notebook-cell:/f%3A/Code/hfm-roombooker/Untitled-1.ipynb#ch0000013?line=15'>16</a>\u001b[0m \u001b[39mwhile\u001b[39;00m \u001b[39mTrue\u001b[39;00m:\n\u001b[0;32m     <a href='vscode-notebook-cell:/f%3A/Code/hfm-roombooker/Untitled-1.ipynb#ch0000013?line=16'>17</a>\u001b[0m     schedule\u001b[39m.\u001b[39mrun_pending()\n\u001b[1;32m---> <a href='vscode-notebook-cell:/f%3A/Code/hfm-roombooker/Untitled-1.ipynb#ch0000013?line=17'>18</a>\u001b[0m     time\u001b[39m.\u001b[39;49msleep(\u001b[39m1\u001b[39;49m)\n",
      "\u001b[1;31mKeyboardInterrupt\u001b[0m: "
     ]
    }
   ],
   "source": [
    "import threading\n",
    "import time\n",
    "import schedule\n",
    "def job1():\n",
    "    print(\"I'm running on thread %s\" % threading.current_thread())\n",
    "def job2():\n",
    "    print(\"I'm running on thread %s\" % threading.current_thread())\n",
    "def job3():\n",
    "    print(\"I'm running on thread %s\" % threading.current_thread())\n",
    "def run_threaded(job_func):\n",
    "    job_thread = threading.Thread(target=job_func)\n",
    "    job_thread.start()\n",
    "schedule.every(10).seconds.do(run_threaded, job1)\n",
    "schedule.every(10).seconds.do(run_threaded, job2)\n",
    "schedule.every(10).seconds.do(run_threaded, job3)\n",
    "while True:\n",
    "    schedule.run_pending()\n",
    "    time.sleep(1)\n"
   ]
  }
 ],
 "metadata": {
  "interpreter": {
   "hash": "8b8fa00a0bc33849e50f88bc163d1bebf5e48571f8997e1ea27f2fda1b8e22df"
  },
  "kernelspec": {
   "display_name": "Python 3.10.4 64-bit",
   "language": "python",
   "name": "python3"
  },
  "language_info": {
   "codemirror_mode": {
    "name": "ipython",
    "version": 3
   },
   "file_extension": ".py",
   "mimetype": "text/x-python",
   "name": "python",
   "nbconvert_exporter": "python",
   "pygments_lexer": "ipython3",
   "version": "3.10.4"
  },
  "orig_nbformat": 4
 },
 "nbformat": 4,
 "nbformat_minor": 2
}
