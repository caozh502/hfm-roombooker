{
 "cells": [
  {
   "cell_type": "code",
   "execution_count": 3,
   "metadata": {},
   "outputs": [
    {
     "name": "stdout",
     "output_type": "stream",
     "text": [
      "本地时间为 : 6\n"
     ]
    }
   ],
   "source": [
    "import time\n",
    " \n",
    "localtime = time.localtime(time.time())\n",
    "print (\"本地时间为 :\", localtime.tm_mday)"
   ]
  },
  {
   "cell_type": "code",
   "execution_count": null,
   "metadata": {},
   "outputs": [],
   "source": [
    "from selenium.webdriver import ActionChains\n",
    "from selenium.webdriver.common.by import By\n",
    "from selenium import webdriver\n",
    "\n",
    "driver=webdriver.Chrome()\n",
    "driver.get('https://www.baidu.com/')\n",
    "inputTag = driver.find_element(by=By.ID, value='kw')\n",
    "submitTag = driver.find_element(by=By.ID, value='su')\n",
    "\n",
    "actions = ActionChains(driver)\n",
    "actions.move_to_element(inputTag)\n",
    "actions.send_keys_to_element(inputTag, '码农飞哥')\n",
    "actions.move_to_element(submitTag)\n",
    "actions.click(submitTag)\n",
    "actions.perform()\n",
    "time.sleep(15)\n",
    "driver.close()"
   ]
  },
  {
   "cell_type": "code",
   "execution_count": 1,
   "metadata": {},
   "outputs": [
    {
     "name": "stdout",
     "output_type": "stream",
     "text": [
      "successfully login\n"
     ]
    }
   ],
   "source": [
    "import requests\n",
    "\n",
    "url = 'https://hfm-karlsruhe.asimut.net/public/login.php'\n",
    "header = { 'User-agent': 'Mozilla/5.0 (Windows NT 10.0; WOW64) AppleWebKit/537.36 (KHTML, like Gecko) Chrome/45.0.2454.85 Safari/537.36'\n",
    "}\n",
    "\n",
    "from_data = {'authenticate-useraccount': '13200',\n",
    "    'authenticate-password': 'ZXY200238zxy.',\n",
    "    'authenticate-url': '/public/',\n",
    "    'authenticate-verification': 'ok',\n",
    "}\n",
    "s = requests.session()\n",
    "response = s.post(url, data = from_data, headers = header)\n",
    "\n",
    "if 'Xinyuan Zhang' in response.content.decode('utf-8'):\n",
    "    print ('successfully login')\n",
    "else:\n",
    "    print ('failed login')"
   ]
  },
  {
   "cell_type": "code",
   "execution_count": 2,
   "metadata": {},
   "outputs": [
    {
     "name": "stderr",
     "output_type": "stream",
     "text": [
      "C:\\Users\\Caleb Tsao\\AppData\\Local\\Temp\\ipykernel_25236\\2031232898.py:10: DeprecationWarning: use options instead of chrome_options\n",
      "  browser = webdriver.Chrome(chrome_options=options)\n",
      "C:\\Users\\Caleb Tsao\\AppData\\Local\\Temp\\ipykernel_25236\\2031232898.py:12: DeprecationWarning: find_element_by_* commands are deprecated. Please use find_element() instead\n",
      "  browser.find_element_by_id('kw').send_keys('HELLO')\n",
      "C:\\Users\\Caleb Tsao\\AppData\\Local\\Temp\\ipykernel_25236\\2031232898.py:13: DeprecationWarning: find_element_by_* commands are deprecated. Please use find_element() instead\n",
      "  browser.find_element_by_id('su').click()\n"
     ]
    },
    {
     "ename": "AssertionError",
     "evalue": "",
     "output_type": "error",
     "traceback": [
      "\u001b[1;31m---------------------------------------------------------------------------\u001b[0m",
      "\u001b[1;31mAssertionError\u001b[0m                            Traceback (most recent call last)",
      "\u001b[1;32mf:\\Code\\hfm-roombooker\\Untitled-1.ipynb Cell 4'\u001b[0m in \u001b[0;36m<cell line: 16>\u001b[1;34m()\u001b[0m\n\u001b[0;32m     <a href='vscode-notebook-cell:/f%3A/Code/hfm-roombooker/Untitled-1.ipynb#ch0000005?line=12'>13</a>\u001b[0m browser\u001b[39m.\u001b[39mfind_element_by_id(\u001b[39m'\u001b[39m\u001b[39msu\u001b[39m\u001b[39m'\u001b[39m)\u001b[39m.\u001b[39mclick()\n\u001b[0;32m     <a href='vscode-notebook-cell:/f%3A/Code/hfm-roombooker/Untitled-1.ipynb#ch0000005?line=14'>15</a>\u001b[0m sleep(\u001b[39m1\u001b[39m) \u001b[39m# 简单粗暴的等待，实际项目中勿用\u001b[39;00m\n\u001b[1;32m---> <a href='vscode-notebook-cell:/f%3A/Code/hfm-roombooker/Untitled-1.ipynb#ch0000005?line=15'>16</a>\u001b[0m \u001b[39massert\u001b[39;00m browser\u001b[39m.\u001b[39mtitle \u001b[39m==\u001b[39m \u001b[39mu\u001b[39m\u001b[39m'\u001b[39m\u001b[39mHELLO_百度搜索\u001b[39m\u001b[39m'\u001b[39m\n\u001b[0;32m     <a href='vscode-notebook-cell:/f%3A/Code/hfm-roombooker/Untitled-1.ipynb#ch0000005?line=16'>17</a>\u001b[0m browser\u001b[39m.\u001b[39msave_screenshot(\u001b[39m'\u001b[39m\u001b[39mchrome-headless-test.png\u001b[39m\u001b[39m'\u001b[39m)\n",
      "\u001b[1;31mAssertionError\u001b[0m: "
     ]
    }
   ],
   "source": [
    "from time import sleep\n",
    "from selenium import webdriver\n",
    "from selenium.webdriver.chrome.options import Options\n",
    " \n",
    "options = Options()\n",
    "options.add_argument('--headless')\n",
    "options.add_argument('--disable-gpu') # 允许在无GPU的环境下运行，可选\n",
    "options.add_argument('--window-size=1920x1080') # 建议设置\n",
    " \n",
    "browser = webdriver.Chrome(chrome_options=options)\n",
    "browser.get('https://www.baidu.com')\n",
    "browser.find_element_by_id('kw').send_keys('HELLO')\n",
    "browser.find_element_by_id('su').click()\n",
    " \n",
    "sleep(1) # 简单粗暴的等待，实际项目中勿用\n",
    "assert browser.title == u'HELLO_百度搜索'\n",
    "browser.save_screenshot('chrome-headless-test.png')\n"
   ]
  },
  {
   "cell_type": "code",
   "execution_count": 27,
   "metadata": {},
   "outputs": [
    {
     "name": "stdout",
     "output_type": "stream",
     "text": [
      "invalid room 215\n"
     ]
    }
   ],
   "source": [
    "i=94\n",
    "\n",
    "print ('invalid room 2'+ ((str(0)+str(i-79)) if (i-79)<10 else str(i-79)))"
   ]
  },
  {
   "cell_type": "code",
   "execution_count": 13,
   "metadata": {},
   "outputs": [
    {
     "name": "stdout",
     "output_type": "stream",
     "text": [
      "Enter your room number (if need):\n",
      "0\n"
     ]
    }
   ],
   "source": [
    "print (\"Enter your room number (if need):\")\n",
    "tmp = input()\n",
    "num_room= tmp if tmp else 0\n",
    "print(num_room)"
   ]
  },
  {
   "cell_type": "code",
   "execution_count": 23,
   "metadata": {},
   "outputs": [
    {
     "name": "stdout",
     "output_type": "stream",
     "text": [
      "1\n"
     ]
    }
   ],
   "source": [
    "unvalid_room = [85,93,94]\n",
    "i=83\n",
    "if (i not in unvalid_room): \n",
    "    print (1)\n"
   ]
  },
  {
   "cell_type": "code",
   "execution_count": 34,
   "metadata": {},
   "outputs": [
    {
     "name": "stdout",
     "output_type": "stream",
     "text": [
      "200\n"
     ]
    }
   ],
   "source": [
    "import datetime\n",
    "import time\n",
    "st = \"06:15\"\n",
    "st = datetime.datetime.strptime(st, \"%H:%M\")\n",
    "st = st+datetime.timedelta(minutes=30)\n",
    "et = \"08:15\"\n",
    "et = datetime.datetime.strptime(et, \"%H:%M\")\n",
    "et = et+datetime.timedelta(minutes=30)\n",
    "\n",
    "print (int(et.strftime(\"%H%M\"))-int(st.strftime(\"%H%M\")))\n",
    "# 2018-05-09 16:56:07\n"
   ]
  }
 ],
 "metadata": {
  "interpreter": {
   "hash": "8b8fa00a0bc33849e50f88bc163d1bebf5e48571f8997e1ea27f2fda1b8e22df"
  },
  "kernelspec": {
   "display_name": "Python 3.10.4 64-bit",
   "language": "python",
   "name": "python3"
  },
  "language_info": {
   "codemirror_mode": {
    "name": "ipython",
    "version": 3
   },
   "file_extension": ".py",
   "mimetype": "text/x-python",
   "name": "python",
   "nbconvert_exporter": "python",
   "pygments_lexer": "ipython3",
   "version": "3.10.4"
  },
  "orig_nbformat": 4
 },
 "nbformat": 4,
 "nbformat_minor": 2
}
